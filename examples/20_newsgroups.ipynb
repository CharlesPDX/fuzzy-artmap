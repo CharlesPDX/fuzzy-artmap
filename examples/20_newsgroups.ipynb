{
 "cells": [
  {
   "cell_type": "code",
   "execution_count": 2,
   "metadata": {},
   "outputs": [],
   "source": [
    "from collections import Counter\n",
    "from dataclasses import dataclass\n",
    "import datetime\n",
    "import random\n",
    "\n",
    "from scipy.sparse import csr_matrix\n",
    "from sklearn.datasets import fetch_20newsgroups\n",
    "from sklearn.feature_extraction.text import TfidfVectorizer\n",
    "import torch"
   ]
  },
  {
   "cell_type": "code",
   "execution_count": 3,
   "metadata": {},
   "outputs": [],
   "source": [
    "# download the 20 Newsgroups data set from scikit learn\n",
    "newsgroup_data = fetch_20newsgroups(subset=\"all\")"
   ]
  },
  {
   "cell_type": "code",
   "execution_count": 4,
   "metadata": {},
   "outputs": [],
   "source": [
    "# help the interpreter find the fuzzy_artmap module \n",
    "import os, sys\n",
    "dir2 = os.path.abspath('')\n",
    "dir1 = os.path.dirname(dir2)\n",
    "if not dir1 in sys.path: \n",
    "    sys.path.append(dir1)\n",
    "\n",
    "from fuzzy_artmap import FuzzyArtMap"
   ]
  },
  {
   "cell_type": "code",
   "execution_count": 5,
   "metadata": {},
   "outputs": [],
   "source": [
    "@dataclass\n",
    "class ProcessedCorpus:\n",
    "    vectorized_corpus: csr_matrix\n",
    "    document_corpus_map: dict[int: int]\n",
    "    categories: dict[int: list[str]]\n",
    "\n",
    "\n",
    "def get_tf_idf_twenty_newsgroup_corpus() -> ProcessedCorpus:\n",
    "    \"\"\"Helper function to vectorize the 20 Newsgroup corpus to TF-IDF features, and associate the vectorized documents with their categories\"\"\"\n",
    "    twenty_newsgroup_vectorizer = TfidfVectorizer(input=\"content\", encoding=\"latin1\", stop_words='english', min_df=0.001, max_df=0.9)\n",
    "    twenty_newsgroup_vectorized_corpus = twenty_newsgroup_vectorizer.fit_transform(newsgroup_data.data)\n",
    "    categories = list(newsgroup_data.target_names)\n",
    "    twenty_newsgroup_categories = {}\n",
    "    for document_index, category_index in enumerate(newsgroup_data.target):\n",
    "        twenty_newsgroup_categories[document_index]=categories[category_index]\n",
    "\n",
    "    return ProcessedCorpus(vectorized_corpus = twenty_newsgroup_vectorized_corpus,\n",
    "                           document_corpus_map = {index: index for index in range(twenty_newsgroup_vectorized_corpus.shape[0])},\n",
    "                           categories = twenty_newsgroup_categories)"
   ]
  },
  {
   "cell_type": "code",
   "execution_count": 6,
   "metadata": {},
   "outputs": [],
   "source": [
    "# Setup the valid (matching) & invalid (not matching) categories, complement encoded\n",
    "valid_vector = torch.tensor([[1.0, 0.0]])\n",
    "invalid_vector = torch.tensor([[0.0, 1.0]])"
   ]
  },
  {
   "cell_type": "code",
   "execution_count": 7,
   "metadata": {},
   "outputs": [],
   "source": [
    "def get_test_input_and_output(doc_index, vector, categories, selected_category):\n",
    "    \"\"\"Helper function to get the complement encoded input, and encoded label\"\"\"\n",
    "    if selected_category == categories[doc_index]:\n",
    "        output_value = valid_vector\n",
    "    else:\n",
    "        output_value = invalid_vector\n",
    "    \n",
    "    complement_encoded_input = FuzzyArtMap.complement_encode(torch.from_numpy(vector.toarray()))\n",
    "    return complement_encoded_input, output_value"
   ]
  },
  {
   "cell_type": "code",
   "execution_count": 8,
   "metadata": {},
   "outputs": [],
   "source": [
    "def test_predictions(fuzzy_artmap, document_indexes, corpus, categories, selected_category, document_corpus_index_map):\n",
    "    \"\"\"Count the True Positives (TP), True Negatives (TN), False Positives (FP), and False Negatives (FN) for predictions made by the model\"\"\"\n",
    "    accuracy_counter = Counter({\"TP\": 0, \"TN\": 0, \"FP\": 0, \"FN\": 0})\n",
    "    for corpus_index in document_indexes[100:]:  # Skip the first 100 documents used for training\n",
    "        document_index = document_corpus_index_map[corpus_index]\n",
    "        input_vector, class_vector = get_test_input_and_output(document_index, corpus[corpus_index], categories, selected_category)\n",
    "        prediction = fuzzy_artmap.predict(input_vector)\n",
    "        if class_vector[0][0].item():\n",
    "            if prediction[0][0][0].item():\n",
    "                update = {\"TP\": 1}\n",
    "            else:\n",
    "                update = {\"FN\": 1}\n",
    "        else:\n",
    "            if prediction[0][0][0].item():\n",
    "                update = {\"FP\": 1}\n",
    "            else:\n",
    "                update = {\"TN\": 1}\n",
    "        accuracy_counter.update(update)\n",
    "    print(accuracy_counter)\n",
    "    return accuracy_counter"
   ]
  },
  {
   "cell_type": "code",
   "execution_count": 9,
   "metadata": {},
   "outputs": [],
   "source": [
    "def calculate_metrics(accuracy_data, duration, number_of_relevant_documents):\n",
    "    \"\"\"Calculate accuracy, precision, recall, and speed metrics given the accuracy data\"\"\"\n",
    "    total_documents_tested = sum(accuracy_data.values())\n",
    "    accuracy = (accuracy_data[\"TP\"] + accuracy_data[\"TN\"]) / total_documents_tested\n",
    "    precision = accuracy_data[\"TP\"] / (accuracy_data[\"TP\"] + accuracy_data[\"FP\"])\n",
    "    recall = accuracy_data[\"TP\"] / (accuracy_data[\"TP\"] + accuracy_data[\"FN\"])\n",
    "    recall_set = accuracy_data[\"TP\"] / number_of_relevant_documents\n",
    "    rate = total_documents_tested / duration.seconds\n",
    "    print(f\"accuracy: {accuracy}\\nprecision: {precision}\\nrecall: {recall}\\nrecall (set): {recall_set}\\ntotal relevant docs: {number_of_relevant_documents}\\ntotal docs:{total_documents_tested}\\nprediction rate (docs/second):{rate}\")\n"
   ]
  },
  {
   "cell_type": "code",
   "execution_count": 10,
   "metadata": {},
   "outputs": [],
   "source": [
    "def setup_twenty_newsgroup_corpus():\n",
    "    processed_corpus = get_tf_idf_twenty_newsgroup_corpus()\n",
    "    categories = {index: category for index, category in processed_corpus.categories.items() }\n",
    "    shuffled_document_indexes = random.sample(list(categories.keys()), len(categories))\n",
    "    return processed_corpus.vectorized_corpus, processed_corpus.categories, shuffled_document_indexes, processed_corpus.document_corpus_map"
   ]
  },
  {
   "cell_type": "code",
   "execution_count": 11,
   "metadata": {},
   "outputs": [],
   "source": [
    "\n",
    "def train_model(corpus, shuffled_document_indexes, categories, selected_category, document_corpus_index_map):\n",
    "    fuzzy_artmap = FuzzyArtMap(number_of_category_nodes=36, baseline_vigilance=0.95, committed_node_learning_rate=1.0)\n",
    "    training_split = Counter()\n",
    "    for corpus_index in shuffled_document_indexes[:100]:\n",
    "        document_index = document_corpus_index_map[corpus_index]\n",
    "        training_split.update({''.join(categories[document_index]):1})\n",
    "        input_vector, class_vector = get_test_input_and_output(document_index, corpus[corpus_index], categories, selected_category)\n",
    "        fuzzy_artmap.fit(input_vector, class_vector)\n",
    "\n",
    "    return fuzzy_artmap, training_split"
   ]
  },
  {
   "cell_type": "code",
   "execution_count": null,
   "metadata": {},
   "outputs": [],
   "source": [
    "# This cell trains a basic model using naive (random sample) one-shot offline training using 100 documents, \n",
    "# and then runs the prediction, calculating the performance metrics\n",
    "\n",
    "relevant_category = \"alt.atheism\"\n",
    "\n",
    "corpus, categories, shuffled_document_indexes, document_corpus_index_map = setup_twenty_newsgroup_corpus()\n",
    "fuzzy_artmap, training_split = train_model(corpus, shuffled_document_indexes, categories, relevant_category, document_corpus_index_map)\n",
    "\n",
    "start_predictions = datetime.datetime.now()\n",
    "print(f\"start predictions: {start_predictions}\")\n",
    "accuracy_data = test_predictions(fuzzy_artmap, shuffled_document_indexes, corpus, categories, relevant_category, document_corpus_index_map)\n",
    "\n",
    "end_predictions = datetime.datetime.now()\n",
    "prediction_duration = end_predictions-start_predictions\n",
    "print(f\"end predictions: {end_predictions} - elapsed: {prediction_duration}\")\n",
    "\n",
    "number_of_relevant_documents = len(list([i for i in shuffled_document_indexes[100:] if relevant_category in categories[document_corpus_index_map[i]]]))\n",
    "calculate_metrics(accuracy_data, prediction_duration, number_of_relevant_documents)"
   ]
  },
  {
   "cell_type": "code",
   "execution_count": 12,
   "metadata": {},
   "outputs": [],
   "source": [
    "def query(fuzzy_artmap, corpus, categories, available_document_indexes, document_corpus_index_map, selected_category):\n",
    "    \"\"\"Gets the predictions for the remaining unevaluated documents in the corpus, used in the active learning test\"\"\"\n",
    "    working_indexes = list(available_document_indexes)\n",
    "\n",
    "    predictions = []\n",
    "    for corpus_index in working_indexes:\n",
    "        document_index = document_corpus_index_map[corpus_index]\n",
    "        input_vector, class_vector = get_test_input_and_output(document_index, corpus[corpus_index], categories, selected_category)\n",
    "        prediction, membership_degree = fuzzy_artmap.predict_with_membership(input_vector)\n",
    "        if prediction[0][0].item():\n",
    "            predictions.append((membership_degree, corpus_index, class_vector, input_vector))\n",
    "    predictions.sort(key=lambda p: p[0], reverse=True)\n",
    "    return predictions"
   ]
  },
  {
   "cell_type": "code",
   "execution_count": 13,
   "metadata": {},
   "outputs": [],
   "source": [
    "def run_active_learning_test(setup_corpus, selected_category):\n",
    "    \"\"\"Uses an active learning approach to query the 20 Newsgroups corpus for the specified category. The corpus is ranked, the top 100 (`batch_size`) \n",
    "    documents are evaluated against their ground truth label, and the model is updated after every judgement. The evaluated documents are removed from the\n",
    "    available (unevaluated) documents in the corpus. Batch-level metrics are reported after each iteration. Evaluation stops when no more relevant documents\n",
    "    are predicted in the remaining unevaluated documents.\"\"\"\n",
    "    print(f\"start: {datetime.datetime.now()}\")\n",
    "    corpus, categories, shuffled_document_indexes, document_corpus_index_map = setup_corpus()\n",
    "    training_indexes = set()\n",
    "    positive_samples = list(filter(lambda doc_index: selected_category in categories[document_corpus_index_map[doc_index]], shuffled_document_indexes))[:10]\n",
    "    negative_samples = list(filter(lambda doc_index: selected_category not in categories[document_corpus_index_map[doc_index]], shuffled_document_indexes))[:90]\n",
    "\n",
    "    training_indexes.update(positive_samples)\n",
    "    training_indexes.update(negative_samples)\n",
    "    available_document_indexes = set(shuffled_document_indexes) - training_indexes\n",
    "    number_of_relevant_documents = len(list([i for i in shuffled_document_indexes if i not in training_indexes and selected_category in categories[document_corpus_index_map[i]]]))\n",
    "\n",
    "    print(f\"start training: {datetime.datetime.now()}\")    \n",
    "    fuzzy_artmap, _ = train_model(corpus, list(training_indexes), categories, selected_category, document_corpus_index_map)\n",
    "    \n",
    "    found_relevant_documents = 0\n",
    "    active_learning_iteration = 0\n",
    "    has_candidates = True\n",
    "    start_predictions = datetime.datetime.now()\n",
    "    print(f\"start active learning: {start_predictions}\")\n",
    "    batch_size = 100\n",
    "    evaluated_document_count = 0\n",
    "    while found_relevant_documents != number_of_relevant_documents and has_candidates:        \n",
    "        relevant_documents_in_batch = 0\n",
    "        candidates = query(fuzzy_artmap, corpus, categories, available_document_indexes, document_corpus_index_map, selected_category)\n",
    "        candidate_batch_size = 0\n",
    "        for candidate in candidates[:batch_size]:\n",
    "            # print(f\"{datetime.datetime.now()} - training\")\n",
    "            evaluated_document_count += 1\n",
    "            candidate_batch_size +=1\n",
    "            fuzzy_artmap.fit(candidate[3], candidate[2])\n",
    "            available_document_indexes.remove(candidate[1]) \n",
    "            if candidate[2][0,][0]:\n",
    "                found_relevant_documents += 1\n",
    "                relevant_documents_in_batch += 1\n",
    "\n",
    "        if len(candidates) == 0:\n",
    "            has_candidates = False\n",
    "        active_learning_iteration += 1\n",
    "        batch_recall = 0\n",
    "        if has_candidates:\n",
    "            batch_recall = relevant_documents_in_batch/candidate_batch_size\n",
    "        print(f\"{datetime.datetime.now()} - {active_learning_iteration} - {found_relevant_documents}/{number_of_relevant_documents} | batch recall: {batch_recall:.4f} | recall - {(found_relevant_documents/number_of_relevant_documents):.4f} precision - {(found_relevant_documents/evaluated_document_count):.4f} | {len(available_document_indexes)}\")\n",
    "    \n",
    "    end_predictions = datetime.datetime.now()\n",
    "    prediction_duration = end_predictions-start_predictions\n",
    "    print(f\"end active learning: {end_predictions} - elapsed: {prediction_duration}\")\n",
    "    print(f\"number of Fuzzy ARTMAP Categories: {fuzzy_artmap.get_weight_a().shape[0]}\")"
   ]
  },
  {
   "cell_type": "markdown",
   "metadata": {},
   "source": [
    "The following cells recapitulate the results published in Courchaine & Sethi (2022) for the tf-idf vectorization of 20 Newsgroup topics pc-hardware (`comp.sys.ibm.pc.hardware`), med (`sci.med`), and forsale (`misc.forsale`) (listed as `tf-idf-pc-hardware`, `tf-idf-med`, and `tf-idf-forsale` in Table IV - 20Newsgroup: Fuzzy ARTMAP Performance).\n",
    "In the table below, the Original Recall, Precision, and F-1 are from Courchaine & Sethi (2022) Table IV, the Recall, Precision, and F-1 columns are values generated from this notebook, higher values are bolded. With the exception of the `forsale` topic, the runs in this notebook outperformed on both recall and precision. However, this is a single instance, and any given run of the notebook may produce higher or lower values. The table is a point comparison indicating comparability between the published results and the implementation in this repository and notebook, it is not a statistical evaluation of the two implementations.\n",
    "\n",
    "| Topic  | Original Recall   | Original Precision  | Original F-1   | Recall   |Precision   | F-1|\n",
    "|---|---|---|---|---|---|---|\n",
    "|pc-hardware   | 0.872  |0.236   |0.372   |**0.875**   |**0.275**   |**0.418**   |\n",
    "|med   | 0.913  |0.287   |0.436   |**0.980**   |**0.362**   |**0.529**   |\n",
    "|forsale   |0.907   |0.259   |0.403   |0.907   |**0.347**   |**0.502**   |\n",
    "\n",
    "See C. Courchaine and R. J. Sethi, \"Fuzzy Law: Towards Creating a Novel Explainable Technology-Assisted Review System for e-Discovery,\" 2022 IEEE International Conference on Big Data (Big Data), Osaka, Japan, 2022, pp. 1218-1223, doi: 10.1109/BigData55660.2022.10020503. for full reference."
   ]
  },
  {
   "cell_type": "code",
   "execution_count": 13,
   "metadata": {},
   "outputs": [
    {
     "name": "stdout",
     "output_type": "stream",
     "text": [
      "start: 2024-12-21 11:22:52.605570\n",
      "start training: 2024-12-21 11:22:54.624420\n",
      "start active learning: 2024-12-21 11:22:54.990824\n",
      "2024-12-21 11:23:32.155137 - 1 - 15/972 | batch recall: 0.5000 | recall - 0.0154 precision - 0.5000 | 18716\n",
      "2024-12-21 11:24:08.004706 - 2 - 36/972 | batch recall: 0.2917 | recall - 0.0370 precision - 0.3529 | 18644\n",
      "2024-12-21 11:24:45.034434 - 3 - 79/972 | batch recall: 0.4300 | recall - 0.0813 precision - 0.3911 | 18544\n",
      "2024-12-21 11:25:20.496275 - 4 - 123/972 | batch recall: 0.4400 | recall - 0.1265 precision - 0.4073 | 18444\n",
      "2024-12-21 11:25:53.686392 - 5 - 176/972 | batch recall: 0.5300 | recall - 0.1811 precision - 0.4378 | 18344\n",
      "2024-12-21 11:26:22.382550 - 6 - 238/972 | batch recall: 0.6200 | recall - 0.2449 precision - 0.4741 | 18244\n",
      "2024-12-21 11:26:50.681439 - 7 - 309/972 | batch recall: 0.7100 | recall - 0.3179 precision - 0.5133 | 18144\n",
      "2024-12-21 11:27:16.053187 - 8 - 366/972 | batch recall: 0.5700 | recall - 0.3765 precision - 0.5214 | 18044\n",
      "2024-12-21 11:27:43.418986 - 9 - 423/972 | batch recall: 0.5700 | recall - 0.4352 precision - 0.5274 | 17944\n",
      "2024-12-21 11:28:09.778870 - 10 - 468/972 | batch recall: 0.4500 | recall - 0.4815 precision - 0.5188 | 17844\n",
      "2024-12-21 11:28:36.999634 - 11 - 515/972 | batch recall: 0.4700 | recall - 0.5298 precision - 0.5140 | 17744\n",
      "2024-12-21 11:29:03.158074 - 12 - 554/972 | batch recall: 0.3900 | recall - 0.5700 precision - 0.5027 | 17644\n",
      "2024-12-21 11:29:29.676096 - 13 - 586/972 | batch recall: 0.3200 | recall - 0.6029 precision - 0.4875 | 17544\n",
      "2024-12-21 11:29:56.347688 - 14 - 618/972 | batch recall: 0.3200 | recall - 0.6358 precision - 0.4747 | 17444\n",
      "2024-12-21 11:30:25.027167 - 15 - 635/972 | batch recall: 0.1700 | recall - 0.6533 precision - 0.4529 | 17344\n",
      "2024-12-21 11:30:53.194466 - 16 - 660/972 | batch recall: 0.2500 | recall - 0.6790 precision - 0.4394 | 17244\n",
      "2024-12-21 11:31:22.553837 - 17 - 681/972 | batch recall: 0.2100 | recall - 0.7006 precision - 0.4251 | 17144\n",
      "2024-12-21 11:31:51.886397 - 18 - 698/972 | batch recall: 0.1700 | recall - 0.7181 precision - 0.4101 | 17044\n",
      "2024-12-21 11:32:21.492047 - 19 - 705/972 | batch recall: 0.0700 | recall - 0.7253 precision - 0.3912 | 16944\n",
      "2024-12-21 11:32:48.906797 - 20 - 708/972 | batch recall: 0.0300 | recall - 0.7284 precision - 0.3722 | 16844\n",
      "2024-12-21 11:33:19.054994 - 21 - 728/972 | batch recall: 0.2000 | recall - 0.7490 precision - 0.3636 | 16744\n",
      "2024-12-21 11:33:49.647500 - 22 - 745/972 | batch recall: 0.1700 | recall - 0.7665 precision - 0.3544 | 16644\n",
      "2024-12-21 11:34:22.175191 - 23 - 756/972 | batch recall: 0.1100 | recall - 0.7778 precision - 0.3433 | 16544\n",
      "2024-12-21 11:34:55.157906 - 24 - 763/972 | batch recall: 0.0700 | recall - 0.7850 precision - 0.3315 | 16444\n",
      "2024-12-21 11:35:27.507636 - 25 - 769/972 | batch recall: 0.0600 | recall - 0.7912 precision - 0.3201 | 16344\n",
      "2024-12-21 11:35:59.152260 - 26 - 783/972 | batch recall: 0.1400 | recall - 0.8056 precision - 0.3129 | 16244\n",
      "2024-12-21 11:36:32.160150 - 27 - 794/972 | batch recall: 0.1100 | recall - 0.8169 precision - 0.3051 | 16144\n",
      "2024-12-21 11:37:05.226192 - 28 - 805/972 | batch recall: 0.1100 | recall - 0.8282 precision - 0.2979 | 16044\n",
      "2024-12-21 11:37:37.927971 - 29 - 821/972 | batch recall: 0.1600 | recall - 0.8447 precision - 0.2930 | 15944\n",
      "2024-12-21 11:38:11.635313 - 30 - 836/972 | batch recall: 0.1500 | recall - 0.8601 precision - 0.2881 | 15844\n",
      "2024-12-21 11:38:45.464374 - 31 - 847/972 | batch recall: 0.1100 | recall - 0.8714 precision - 0.2821 | 15744\n",
      "2024-12-21 11:39:20.669496 - 32 - 850/972 | batch recall: 0.0316 | recall - 0.8745 precision - 0.2745 | 15649\n",
      "2024-12-21 11:39:57.981559 - 33 - 850/972 | batch recall: 0.0000 | recall - 0.8745 precision - 0.2745 | 15649\n",
      "end active learning: 2024-12-21 11:39:57.981677 - elapsed: 0:17:02.990853\n",
      "number of Fuzzy ARTMAP Categories: 36\n"
     ]
    }
   ],
   "source": [
    "# Warning, this can take a while to complete 10-25 minutes\n",
    "run_active_learning_test(setup_twenty_newsgroup_corpus, \"comp.sys.ibm.pc.hardware\")"
   ]
  },
  {
   "cell_type": "code",
   "execution_count": 14,
   "metadata": {},
   "outputs": [
    {
     "name": "stdout",
     "output_type": "stream",
     "text": [
      "start: 2024-12-21 11:41:44.404124\n",
      "start training: 2024-12-21 11:41:46.463867\n",
      "start active learning: 2024-12-21 11:41:46.953340\n",
      "2024-12-21 11:42:35.521657 - 1 - 72/980 | batch recall: 0.7200 | recall - 0.0735 precision - 0.7200 | 18646\n",
      "2024-12-21 11:43:20.939770 - 2 - 124/980 | batch recall: 0.5200 | recall - 0.1265 precision - 0.6200 | 18546\n",
      "2024-12-21 11:44:00.595891 - 3 - 182/980 | batch recall: 0.5800 | recall - 0.1857 precision - 0.6067 | 18446\n",
      "2024-12-21 11:44:35.896545 - 4 - 253/980 | batch recall: 0.7100 | recall - 0.2582 precision - 0.6325 | 18346\n",
      "2024-12-21 11:45:09.410249 - 5 - 327/980 | batch recall: 0.7400 | recall - 0.3337 precision - 0.6540 | 18246\n",
      "2024-12-21 11:45:37.442186 - 6 - 398/980 | batch recall: 0.7100 | recall - 0.4061 precision - 0.6633 | 18146\n",
      "2024-12-21 11:46:03.985412 - 7 - 478/980 | batch recall: 0.8000 | recall - 0.4878 precision - 0.6829 | 18046\n",
      "2024-12-21 11:46:31.816882 - 8 - 555/980 | batch recall: 0.7700 | recall - 0.5663 precision - 0.6937 | 17946\n",
      "2024-12-21 11:46:59.213793 - 9 - 609/980 | batch recall: 0.5400 | recall - 0.6214 precision - 0.6767 | 17846\n",
      "2024-12-21 11:47:26.807784 - 10 - 665/980 | batch recall: 0.5600 | recall - 0.6786 precision - 0.6650 | 17746\n",
      "2024-12-21 11:47:54.919119 - 11 - 706/980 | batch recall: 0.4100 | recall - 0.7204 precision - 0.6418 | 17646\n",
      "2024-12-21 11:50:25.878110 - 12 - 735/980 | batch recall: 0.2900 | recall - 0.7500 precision - 0.6125 | 17546\n",
      "2024-12-21 11:50:54.478083 - 13 - 763/980 | batch recall: 0.2800 | recall - 0.7786 precision - 0.5869 | 17446\n",
      "2024-12-21 11:51:23.621817 - 14 - 799/980 | batch recall: 0.3600 | recall - 0.8153 precision - 0.5707 | 17346\n",
      "2024-12-21 11:51:52.679263 - 15 - 817/980 | batch recall: 0.1800 | recall - 0.8337 precision - 0.5447 | 17246\n",
      "2024-12-21 11:52:24.065196 - 16 - 839/980 | batch recall: 0.2200 | recall - 0.8561 precision - 0.5244 | 17146\n",
      "2024-12-21 11:52:54.814480 - 17 - 857/980 | batch recall: 0.1800 | recall - 0.8745 precision - 0.5041 | 17046\n",
      "2024-12-21 11:53:26.133560 - 18 - 866/980 | batch recall: 0.0900 | recall - 0.8837 precision - 0.4811 | 16946\n",
      "2024-12-21 11:53:58.658041 - 19 - 890/980 | batch recall: 0.2400 | recall - 0.9082 precision - 0.4684 | 16846\n",
      "2024-12-21 11:54:30.617966 - 20 - 908/980 | batch recall: 0.1800 | recall - 0.9265 precision - 0.4540 | 16746\n",
      "2024-12-21 11:55:02.839259 - 21 - 913/980 | batch recall: 0.0500 | recall - 0.9316 precision - 0.4348 | 16646\n",
      "2024-12-21 11:55:36.812818 - 22 - 918/980 | batch recall: 0.0500 | recall - 0.9367 precision - 0.4173 | 16546\n",
      "2024-12-21 11:56:25.850575 - 23 - 928/980 | batch recall: 0.1000 | recall - 0.9469 precision - 0.4035 | 16446\n",
      "2024-12-21 11:57:02.223949 - 24 - 942/980 | batch recall: 0.1400 | recall - 0.9612 precision - 0.3925 | 16346\n",
      "2024-12-21 11:57:39.708519 - 25 - 951/980 | batch recall: 0.0900 | recall - 0.9704 precision - 0.3804 | 16246\n",
      "2024-12-21 11:58:16.131470 - 26 - 955/980 | batch recall: 0.0548 | recall - 0.9745 precision - 0.3712 | 16173\n",
      "2024-12-21 11:58:52.573341 - 27 - 960/980 | batch recall: 0.1136 | recall - 0.9796 precision - 0.3668 | 16129\n",
      "2024-12-21 11:59:34.397541 - 28 - 960/980 | batch recall: 0.0000 | recall - 0.9796 precision - 0.3623 | 16096\n",
      "2024-12-21 12:00:14.863985 - 29 - 960/980 | batch recall: 0.0000 | recall - 0.9796 precision - 0.3623 | 16096\n",
      "end active learning: 2024-12-21 12:00:14.864136 - elapsed: 0:18:27.910796\n",
      "number of Fuzzy ARTMAP Categories: 36\n"
     ]
    }
   ],
   "source": [
    "# Warning, this can take a while to complete 10-25 minutes\n",
    "run_active_learning_test(setup_twenty_newsgroup_corpus, \"sci.med\")"
   ]
  },
  {
   "cell_type": "code",
   "execution_count": 14,
   "metadata": {},
   "outputs": [
    {
     "name": "stdout",
     "output_type": "stream",
     "text": [
      "start: 2024-12-29 10:33:29.757247\n",
      "start training: 2024-12-29 10:33:31.060313\n",
      "start active learning: 2024-12-29 10:33:31.284480\n",
      "2024-12-29 10:34:00.542380 - 1 - 33/965 | batch recall: 0.6600 | recall - 0.0342 precision - 0.6600 | 18696\n",
      "2024-12-29 10:34:29.108280 - 2 - 105/965 | batch recall: 0.7200 | recall - 0.1088 precision - 0.7000 | 18596\n",
      "2024-12-29 10:34:57.705391 - 3 - 164/965 | batch recall: 0.5900 | recall - 0.1699 precision - 0.6560 | 18496\n",
      "2024-12-29 10:35:22.948842 - 4 - 213/965 | batch recall: 0.4900 | recall - 0.2207 precision - 0.6086 | 18396\n",
      "2024-12-29 10:35:45.841985 - 5 - 253/965 | batch recall: 0.4000 | recall - 0.2622 precision - 0.5622 | 18296\n",
      "2024-12-29 10:36:08.085838 - 6 - 295/965 | batch recall: 0.4200 | recall - 0.3057 precision - 0.5364 | 18196\n",
      "2024-12-29 10:36:29.043603 - 7 - 343/965 | batch recall: 0.4800 | recall - 0.3554 precision - 0.5277 | 18096\n",
      "2024-12-29 10:36:49.896078 - 8 - 388/965 | batch recall: 0.4500 | recall - 0.4021 precision - 0.5173 | 17996\n",
      "2024-12-29 10:37:10.029940 - 9 - 423/965 | batch recall: 0.3500 | recall - 0.4383 precision - 0.4976 | 17896\n",
      "2024-12-29 10:37:30.673353 - 10 - 469/965 | batch recall: 0.4600 | recall - 0.4860 precision - 0.4937 | 17796\n",
      "2024-12-29 10:37:50.957781 - 11 - 503/965 | batch recall: 0.3400 | recall - 0.5212 precision - 0.4790 | 17696\n",
      "2024-12-29 10:38:11.790007 - 12 - 545/965 | batch recall: 0.4200 | recall - 0.5648 precision - 0.4739 | 17596\n",
      "2024-12-29 10:38:32.371946 - 13 - 584/965 | batch recall: 0.3900 | recall - 0.6052 precision - 0.4672 | 17496\n",
      "2024-12-29 10:38:55.187397 - 14 - 622/965 | batch recall: 0.3800 | recall - 0.6446 precision - 0.4607 | 17396\n",
      "2024-12-29 10:39:17.464167 - 15 - 661/965 | batch recall: 0.3900 | recall - 0.6850 precision - 0.4559 | 17296\n",
      "2024-12-29 10:39:40.257147 - 16 - 697/965 | batch recall: 0.3600 | recall - 0.7223 precision - 0.4497 | 17196\n",
      "2024-12-29 10:40:02.492033 - 17 - 734/965 | batch recall: 0.3700 | recall - 0.7606 precision - 0.4448 | 17096\n",
      "2024-12-29 10:40:24.161423 - 18 - 761/965 | batch recall: 0.2700 | recall - 0.7886 precision - 0.4349 | 16996\n",
      "2024-12-29 10:40:46.394147 - 19 - 784/965 | batch recall: 0.2300 | recall - 0.8124 precision - 0.4238 | 16896\n",
      "2024-12-29 10:41:09.509756 - 20 - 802/965 | batch recall: 0.1800 | recall - 0.8311 precision - 0.4113 | 16796\n",
      "2024-12-29 10:41:32.526375 - 21 - 820/965 | batch recall: 0.1800 | recall - 0.8497 precision - 0.4000 | 16696\n",
      "2024-12-29 10:41:57.100032 - 22 - 836/965 | batch recall: 0.1600 | recall - 0.8663 precision - 0.3888 | 16596\n",
      "2024-12-29 10:42:23.995421 - 23 - 845/965 | batch recall: 0.0900 | recall - 0.8756 precision - 0.3756 | 16496\n",
      "2024-12-29 10:42:51.165560 - 24 - 859/965 | batch recall: 0.1400 | recall - 0.8902 precision - 0.3655 | 16396\n",
      "2024-12-29 10:43:22.626014 - 25 - 870/965 | batch recall: 0.1100 | recall - 0.9016 precision - 0.3551 | 16296\n",
      "2024-12-29 10:43:55.401903 - 26 - 875/965 | batch recall: 0.0694 | recall - 0.9067 precision - 0.3469 | 16224\n",
      "2024-12-29 10:44:29.478635 - 27 - 875/965 | batch recall: 0.0000 | recall - 0.9067 precision - 0.3467 | 16222\n",
      "2024-12-29 10:45:03.261721 - 28 - 875/965 | batch recall: 0.0000 | recall - 0.9067 precision - 0.3467 | 16222\n",
      "end active learning: 2024-12-29 10:45:03.261821 - elapsed: 0:11:31.977341\n",
      "number of Fuzzy ARTMAP Categories: 36\n"
     ]
    }
   ],
   "source": [
    "# Warning, this can take a while to complete 10-20 minutes\n",
    "run_active_learning_test(setup_twenty_newsgroup_corpus, \"misc.forsale\")"
   ]
  }
 ],
 "metadata": {
  "kernelspec": {
   "display_name": ".venv",
   "language": "python",
   "name": "python3"
  },
  "language_info": {
   "codemirror_mode": {
    "name": "ipython",
    "version": 3
   },
   "file_extension": ".py",
   "mimetype": "text/x-python",
   "name": "python",
   "nbconvert_exporter": "python",
   "pygments_lexer": "ipython3",
   "version": "3.12.0"
  }
 },
 "nbformat": 4,
 "nbformat_minor": 2
}
